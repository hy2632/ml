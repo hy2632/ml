{
 "cells": [
  {
   "cell_type": "markdown",
   "metadata": {},
   "source": [
    "# Step 1: Evaluate several models\n",
    "\n",
    "The next code cell defines five different random forest models.  Run this code cell without changes.  (_To review **random forests**, look [here](https://www.kaggle.com/dansbecker/random-forests)._)"
   ]
  },
  {
   "cell_type": "code",
   "execution_count": 6,
   "metadata": {},
   "outputs": [],
   "source": [
    "import pandas as pd\n",
    "from sklearn.model_selection import train_test_split\n",
    "# Read the data\n",
    "X_full = pd.read_csv('input/train.csv', index_col='Id')\n",
    "X_test_full = pd.read_csv('input/test.csv', index_col='Id')\n",
    "\n",
    "# Obtain target and predictors\n",
    "y = X_full.SalePrice\n",
    "features = ['LotArea', 'YearBuilt', '1stFlrSF', '2ndFlrSF', 'FullBath', 'BedroomAbvGr', 'TotRmsAbvGrd']\n",
    "X = X_full[features].copy()\n",
    "X_test = X_test_full[features].copy()\n",
    "\n",
    "# Break off validation set from training data\n",
    "X_train, X_valid, y_train, y_valid = train_test_split(X, y, train_size=0.8, test_size=0.2,\n",
    "                                                      random_state=0)"
   ]
  },
  {
   "cell_type": "code",
   "execution_count": 7,
   "metadata": {},
   "outputs": [],
   "source": [
    "from sklearn.ensemble import RandomForestRegressor\n",
    "\n",
    "# Define the models\n",
    "model_1 = RandomForestRegressor(n_estimators=50, random_state=0)\n",
    "model_2 = RandomForestRegressor(n_estimators=100, random_state=0)\n",
    "model_3 = RandomForestRegressor(n_estimators=100, criterion='mae', random_state=0)\n",
    "model_4 = RandomForestRegressor(n_estimators=200, min_samples_split=20, random_state=0)\n",
    "model_5 = RandomForestRegressor(n_estimators=100, max_depth=7, random_state=0)\n",
    "\n",
    "models = [model_1, model_2, model_3, model_4, model_5]"
   ]
  },
  {
   "cell_type": "code",
   "execution_count": 8,
   "metadata": {},
   "outputs": [
    {
     "name": "stdout",
     "output_type": "stream",
     "text": [
      "Model 1 MAE: 24015\n",
      "Model 2 MAE: 23740\n",
      "Model 3 MAE: 23528\n",
      "Model 4 MAE: 23996\n",
      "Model 5 MAE: 23706\n"
     ]
    }
   ],
   "source": [
    "from sklearn.metrics import mean_absolute_error\n",
    "\n",
    "# Function for comparing different models\n",
    "def score_model(model, X_t=X_train, X_v=X_valid, y_t=y_train, y_v=y_valid):\n",
    "    model.fit(X_t, y_t)\n",
    "    preds = model.predict(X_v)\n",
    "    return mean_absolute_error(y_v, preds)\n",
    "\n",
    "for i in range(0, len(models)):\n",
    "    mae = score_model(models[i])\n",
    "    print(\"Model %d MAE: %d\" % (i+1, mae))"
   ]
  },
  {
   "cell_type": "markdown",
   "metadata": {},
   "source": [
    "# Step 2: Generate test predictions\n",
    "\n",
    "Great. You know how to evaluate what makes an accurate model. Now it's time to go through the modeling process and make predictions. In the line below, create a Random Forest model with the variable name `my_model`."
   ]
  },
  {
   "cell_type": "code",
   "execution_count": 37,
   "metadata": {},
   "outputs": [],
   "source": [
    "import pandas as pd\n",
    "from sklearn.model_selection import train_test_split\n",
    "# Read the data\n",
    "X_full = pd.read_csv('input/train.csv', index_col='Id')\n",
    "X_test_full = pd.read_csv('input/test.csv', index_col='Id')"
   ]
  },
  {
   "cell_type": "code",
   "execution_count": 16,
   "metadata": {
    "collapsed": true,
    "jupyter": {
     "outputs_hidden": true
    }
   },
   "outputs": [
    {
     "data": {
      "text/plain": [
       "['BsmtExposure',\n",
       " 'PoolQC',\n",
       " 'Neighborhood',\n",
       " 'LandSlope',\n",
       " 'Utilities',\n",
       " 'Electrical',\n",
       " 'KitchenAbvGr',\n",
       " 'YearBuilt',\n",
       " 'Foundation',\n",
       " 'KitchenQual',\n",
       " 'GarageCars',\n",
       " 'MasVnrType',\n",
       " 'LotArea',\n",
       " 'EnclosedPorch',\n",
       " 'Alley',\n",
       " 'BsmtUnfSF',\n",
       " '3SsnPorch',\n",
       " 'TotRmsAbvGrd',\n",
       " 'BsmtQual',\n",
       " 'YearRemodAdd',\n",
       " 'OverallCond',\n",
       " 'MoSold',\n",
       " 'SaleCondition',\n",
       " 'OverallQual',\n",
       " 'TotalBsmtSF',\n",
       " 'GarageYrBlt',\n",
       " 'LotFrontage',\n",
       " 'LandContour',\n",
       " 'Functional',\n",
       " 'GarageFinish',\n",
       " '1stFlrSF',\n",
       " 'HalfBath',\n",
       " 'BsmtHalfBath',\n",
       " 'Exterior2nd',\n",
       " 'BsmtFullBath',\n",
       " 'PavedDrive',\n",
       " 'GrLivArea',\n",
       " 'MiscVal',\n",
       " 'RoofStyle',\n",
       " '2ndFlrSF',\n",
       " 'HouseStyle',\n",
       " 'LotShape',\n",
       " 'GarageCond',\n",
       " 'YrSold',\n",
       " 'LotConfig',\n",
       " 'Condition2',\n",
       " 'ExterCond',\n",
       " 'Street',\n",
       " 'BsmtFinSF1',\n",
       " 'Fence',\n",
       " 'GarageType',\n",
       " 'GarageArea',\n",
       " 'FullBath',\n",
       " 'MSSubClass',\n",
       " 'Heating',\n",
       " 'GarageQual',\n",
       " 'BsmtFinType1',\n",
       " 'HeatingQC',\n",
       " 'SaleType',\n",
       " 'OpenPorchSF',\n",
       " 'LowQualFinSF',\n",
       " 'BsmtFinType2',\n",
       " 'Fireplaces',\n",
       " 'BldgType',\n",
       " 'RoofMatl',\n",
       " 'MiscFeature',\n",
       " 'Condition1',\n",
       " 'BsmtFinSF2',\n",
       " 'ExterQual',\n",
       " 'Exterior1st',\n",
       " 'CentralAir',\n",
       " 'PoolArea',\n",
       " 'FireplaceQu',\n",
       " 'BsmtCond',\n",
       " 'MasVnrArea',\n",
       " 'ScreenPorch',\n",
       " 'BedroomAbvGr',\n",
       " 'WoodDeckSF',\n",
       " 'MSZoning']"
      ]
     },
     "execution_count": 16,
     "metadata": {},
     "output_type": "execute_result"
    }
   ],
   "source": [
    "list(set(X_full.columns).intersection(set(X_test_full.columns)))"
   ]
  },
  {
   "cell_type": "code",
   "execution_count": 39,
   "metadata": {},
   "outputs": [],
   "source": [
    "# Obtain target and predictors\n",
    "X_full = X_full.dropna(axis=1)\n",
    "X_test_full = X_test_full.dropna(axis=1)\n",
    "\n",
    "y = X_full.SalePrice\n",
    "features = list(set(X_full.columns).intersection(set(X_test_full.columns)))\n",
    "X = X_full[features].copy()\n",
    "\n",
    "X_test = X_test_full[features].copy()\n",
    "\n",
    "# Use the whole dataset\n",
    "# Break off validation set from training data\n",
    "# X_train, X_valid, y_train, y_valid = train_test_split(X, y, train_size=0.8, test_size=0.2,\n",
    "#                                                       random_state=0)\n"
   ]
  },
  {
   "cell_type": "markdown",
   "metadata": {},
   "source": [
    "`For categorical data we have to use one-hot encoding`\n",
    "\n",
    "`li Use label Encoder() to convert consecutive int, but the average of 2 items might be another item? So not frequently used`\n"
   ]
  },
  {
   "cell_type": "code",
   "execution_count": 40,
   "metadata": {},
   "outputs": [],
   "source": [
    "# Use the score_model function\n",
    "from sklearn.metrics import mean_absolute_error\n",
    "\n",
    "def score_model(model, X_t=X_train, X_v=X_valid, y_t=y_train, y_v=y_valid):\n",
    "    model.fit(X_t, y_t)\n",
    "    preds = model.predict(X_v)\n",
    "    return mean_absolute_error(y_v, preds)\n"
   ]
  },
  {
   "cell_type": "code",
   "execution_count": null,
   "metadata": {},
   "outputs": [],
   "source": []
  },
  {
   "cell_type": "markdown",
   "metadata": {},
   "source": [
    "test_set may have a different number of dummy variables compared to the training_set. \n",
    "\n",
    "https://blog.csdn.net/maotianyi941005/article/details/88582464\n",
    "\n",
    "1. get_dummies to both dataset\n",
    "2. add surplus features from the training set to the test set\n",
    "3. delete surplus features from test set"
   ]
  },
  {
   "cell_type": "code",
   "execution_count": 52,
   "metadata": {},
   "outputs": [
    {
     "data": {
      "text/plain": [
       "['HouseStyle_2.5Fin',\n",
       " 'RoofMatl_ClyTile',\n",
       " 'Heating_Floor',\n",
       " 'RoofMatl_Membran',\n",
       " 'RoofMatl_Roll',\n",
       " 'RoofMatl_Metal',\n",
       " 'Heating_OthW',\n",
       " 'Condition2_RRNn',\n",
       " 'Condition2_RRAn',\n",
       " 'Condition2_RRAe']"
      ]
     },
     "execution_count": 52,
     "metadata": {},
     "output_type": "execute_result"
    }
   ],
   "source": [
    "list(set(one_hot_X.columns)-set(one_hot_X_test.columns))"
   ]
  },
  {
   "cell_type": "code",
   "execution_count": 59,
   "metadata": {},
   "outputs": [],
   "source": [
    "# One way to reset columns\n",
    "\n",
    "one_hot_X = pd.get_dummies(X)\n",
    "one_hot_X_test = pd.get_dummies(X_test)\n",
    "# added_columns = list(set(one_hot_X.columns)-set(one_hot_X_test.columns))\n",
    "\n",
    "\n",
    "\n",
    "\n",
    "one_hot_X = one_hot_X.reindex(columns = one_hot_X_test.columns)\n",
    "\n"
   ]
  },
  {
   "cell_type": "code",
   "execution_count": 61,
   "metadata": {},
   "outputs": [
    {
     "name": "stdout",
     "output_type": "stream",
     "text": [
      "[125946.   155585.   165842.52 ... 146542.5  132606.9  239510.32]\n"
     ]
    }
   ],
   "source": [
    "# This is a regression problem\n",
    "from sklearn.ensemble import RandomForestRegressor\n",
    "\n",
    "my_model = RandomForestRegressor(n_estimators=100, criterion='mae', random_state=0)\n",
    "my_model.fit(one_hot_X, y)\n",
    "preds = my_model.predict(one_hot_X_test)\n",
    "print(preds)"
   ]
  },
  {
   "cell_type": "code",
   "execution_count": null,
   "metadata": {},
   "outputs": [],
   "source": []
  },
  {
   "cell_type": "code",
   "execution_count": null,
   "metadata": {},
   "outputs": [],
   "source": []
  }
 ],
 "metadata": {
  "kernelspec": {
   "display_name": "Python 3",
   "language": "python",
   "name": "python3"
  },
  "language_info": {
   "codemirror_mode": {
    "name": "ipython",
    "version": 3
   },
   "file_extension": ".py",
   "mimetype": "text/x-python",
   "name": "python",
   "nbconvert_exporter": "python",
   "pygments_lexer": "ipython3",
   "version": "3.7.4"
  }
 },
 "nbformat": 4,
 "nbformat_minor": 4
}
